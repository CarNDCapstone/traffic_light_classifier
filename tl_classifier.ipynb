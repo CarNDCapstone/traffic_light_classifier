{
 "cells": [
  {
   "cell_type": "code",
   "execution_count": 1,
   "metadata": {},
   "outputs": [],
   "source": [
    "import tensorflow as tf\n",
    "import pandas as pd\n",
    "import numpy as np\n",
    "import cv2\n",
    "import glob\n",
    "import os\n",
    "import matplotlib.pyplot as plt\n",
    "%matplotlib inline"
   ]
  },
  {
   "cell_type": "code",
   "execution_count": 2,
   "metadata": {},
   "outputs": [
    {
     "name": "stderr",
     "output_type": "stream",
     "text": [
      "Using TensorFlow backend.\n"
     ]
    }
   ],
   "source": [
    "import keras\n",
    "from keras.layers import Dense, Dropout, Activation, Flatten, AveragePooling2D, BatchNormalization\n",
    "from keras.layers import Conv2D, MaxPooling2D\n",
    "from keras.preprocessing.image import ImageDataGenerator\n",
    "from keras.utils import to_categorical"
   ]
  },
  {
   "cell_type": "code",
   "execution_count": 3,
   "metadata": {},
   "outputs": [],
   "source": [
    "dataframe = pd.read_csv(\"GT-with-BB.csv\") "
   ]
  },
  {
   "cell_type": "code",
   "execution_count": 4,
   "metadata": {},
   "outputs": [
    {
     "data": {
      "text/html": [
       "<div>\n",
       "<style scoped>\n",
       "    .dataframe tbody tr th:only-of-type {\n",
       "        vertical-align: middle;\n",
       "    }\n",
       "\n",
       "    .dataframe tbody tr th {\n",
       "        vertical-align: top;\n",
       "    }\n",
       "\n",
       "    .dataframe thead th {\n",
       "        text-align: right;\n",
       "    }\n",
       "</style>\n",
       "<table border=\"1\" class=\"dataframe\">\n",
       "  <thead>\n",
       "    <tr style=\"text-align: right;\">\n",
       "      <th></th>\n",
       "      <th>Unnamed: 0</th>\n",
       "      <th>name</th>\n",
       "      <th>x</th>\n",
       "      <th>y</th>\n",
       "      <th>w</th>\n",
       "      <th>h</th>\n",
       "      <th>color</th>\n",
       "    </tr>\n",
       "  </thead>\n",
       "  <tbody>\n",
       "    <tr>\n",
       "      <td>0</td>\n",
       "      <td>0</td>\n",
       "      <td>IMAGE0.png</td>\n",
       "      <td>627</td>\n",
       "      <td>272</td>\n",
       "      <td>48</td>\n",
       "      <td>114</td>\n",
       "      <td>RED</td>\n",
       "    </tr>\n",
       "    <tr>\n",
       "      <td>1</td>\n",
       "      <td>1</td>\n",
       "      <td>IMAGE0.png</td>\n",
       "      <td>379</td>\n",
       "      <td>268</td>\n",
       "      <td>48</td>\n",
       "      <td>114</td>\n",
       "      <td>RED</td>\n",
       "    </tr>\n",
       "    <tr>\n",
       "      <td>2</td>\n",
       "      <td>2</td>\n",
       "      <td>IMAGE1.png</td>\n",
       "      <td>627</td>\n",
       "      <td>272</td>\n",
       "      <td>48</td>\n",
       "      <td>114</td>\n",
       "      <td>RED</td>\n",
       "    </tr>\n",
       "    <tr>\n",
       "      <td>3</td>\n",
       "      <td>3</td>\n",
       "      <td>IMAGE1.png</td>\n",
       "      <td>379</td>\n",
       "      <td>268</td>\n",
       "      <td>48</td>\n",
       "      <td>114</td>\n",
       "      <td>RED</td>\n",
       "    </tr>\n",
       "    <tr>\n",
       "      <td>4</td>\n",
       "      <td>4</td>\n",
       "      <td>IMAGE2.png</td>\n",
       "      <td>627</td>\n",
       "      <td>272</td>\n",
       "      <td>48</td>\n",
       "      <td>114</td>\n",
       "      <td>RED</td>\n",
       "    </tr>\n",
       "    <tr>\n",
       "      <td>...</td>\n",
       "      <td>...</td>\n",
       "      <td>...</td>\n",
       "      <td>...</td>\n",
       "      <td>...</td>\n",
       "      <td>...</td>\n",
       "      <td>...</td>\n",
       "      <td>...</td>\n",
       "    </tr>\n",
       "    <tr>\n",
       "      <td>96</td>\n",
       "      <td>96</td>\n",
       "      <td>IMAGE269.png</td>\n",
       "      <td>278</td>\n",
       "      <td>453</td>\n",
       "      <td>27</td>\n",
       "      <td>56</td>\n",
       "      <td>GREEN</td>\n",
       "    </tr>\n",
       "    <tr>\n",
       "      <td>97</td>\n",
       "      <td>97</td>\n",
       "      <td>IMAGE269.png</td>\n",
       "      <td>166</td>\n",
       "      <td>449</td>\n",
       "      <td>26</td>\n",
       "      <td>57</td>\n",
       "      <td>GREEN</td>\n",
       "    </tr>\n",
       "    <tr>\n",
       "      <td>98</td>\n",
       "      <td>98</td>\n",
       "      <td>IMAGE270.png</td>\n",
       "      <td>142</td>\n",
       "      <td>429</td>\n",
       "      <td>30</td>\n",
       "      <td>64</td>\n",
       "      <td>GREEN</td>\n",
       "    </tr>\n",
       "    <tr>\n",
       "      <td>99</td>\n",
       "      <td>99</td>\n",
       "      <td>IMAGE274.png</td>\n",
       "      <td>572</td>\n",
       "      <td>300</td>\n",
       "      <td>121</td>\n",
       "      <td>300</td>\n",
       "      <td>YELLOW</td>\n",
       "    </tr>\n",
       "    <tr>\n",
       "      <td>100</td>\n",
       "      <td>100</td>\n",
       "      <td>IMAGE276.png</td>\n",
       "      <td>476</td>\n",
       "      <td>350</td>\n",
       "      <td>73</td>\n",
       "      <td>170</td>\n",
       "      <td>YELLOW</td>\n",
       "    </tr>\n",
       "  </tbody>\n",
       "</table>\n",
       "<p>101 rows × 7 columns</p>\n",
       "</div>"
      ],
      "text/plain": [
       "     Unnamed: 0          name    x    y    w    h   color\n",
       "0             0    IMAGE0.png  627  272   48  114     RED\n",
       "1             1    IMAGE0.png  379  268   48  114     RED\n",
       "2             2    IMAGE1.png  627  272   48  114     RED\n",
       "3             3    IMAGE1.png  379  268   48  114     RED\n",
       "4             4    IMAGE2.png  627  272   48  114     RED\n",
       "..          ...           ...  ...  ...  ...  ...     ...\n",
       "96           96  IMAGE269.png  278  453   27   56   GREEN\n",
       "97           97  IMAGE269.png  166  449   26   57   GREEN\n",
       "98           98  IMAGE270.png  142  429   30   64   GREEN\n",
       "99           99  IMAGE274.png  572  300  121  300  YELLOW\n",
       "100         100  IMAGE276.png  476  350   73  170  YELLOW\n",
       "\n",
       "[101 rows x 7 columns]"
      ]
     },
     "execution_count": 4,
     "metadata": {},
     "output_type": "execute_result"
    }
   ],
   "source": [
    "dataframe"
   ]
  },
  {
   "cell_type": "code",
   "execution_count": 5,
   "metadata": {},
   "outputs": [
    {
     "data": {
      "text/html": [
       "<div>\n",
       "<style scoped>\n",
       "    .dataframe tbody tr th:only-of-type {\n",
       "        vertical-align: middle;\n",
       "    }\n",
       "\n",
       "    .dataframe tbody tr th {\n",
       "        vertical-align: top;\n",
       "    }\n",
       "\n",
       "    .dataframe thead th {\n",
       "        text-align: right;\n",
       "    }\n",
       "</style>\n",
       "<table border=\"1\" class=\"dataframe\">\n",
       "  <thead>\n",
       "    <tr style=\"text-align: right;\">\n",
       "      <th></th>\n",
       "      <th>Unnamed: 0</th>\n",
       "      <th>name</th>\n",
       "      <th>x</th>\n",
       "      <th>y</th>\n",
       "      <th>w</th>\n",
       "      <th>h</th>\n",
       "      <th>color</th>\n",
       "    </tr>\n",
       "  </thead>\n",
       "  <tbody>\n",
       "    <tr>\n",
       "      <td>0</td>\n",
       "      <td>0</td>\n",
       "      <td>IMAGE0.png</td>\n",
       "      <td>627</td>\n",
       "      <td>272</td>\n",
       "      <td>48</td>\n",
       "      <td>114</td>\n",
       "      <td>RED</td>\n",
       "    </tr>\n",
       "    <tr>\n",
       "      <td>1</td>\n",
       "      <td>1</td>\n",
       "      <td>IMAGE0.png</td>\n",
       "      <td>379</td>\n",
       "      <td>268</td>\n",
       "      <td>48</td>\n",
       "      <td>114</td>\n",
       "      <td>RED</td>\n",
       "    </tr>\n",
       "    <tr>\n",
       "      <td>2</td>\n",
       "      <td>2</td>\n",
       "      <td>IMAGE1.png</td>\n",
       "      <td>627</td>\n",
       "      <td>272</td>\n",
       "      <td>48</td>\n",
       "      <td>114</td>\n",
       "      <td>RED</td>\n",
       "    </tr>\n",
       "    <tr>\n",
       "      <td>3</td>\n",
       "      <td>3</td>\n",
       "      <td>IMAGE1.png</td>\n",
       "      <td>379</td>\n",
       "      <td>268</td>\n",
       "      <td>48</td>\n",
       "      <td>114</td>\n",
       "      <td>RED</td>\n",
       "    </tr>\n",
       "    <tr>\n",
       "      <td>4</td>\n",
       "      <td>4</td>\n",
       "      <td>IMAGE2.png</td>\n",
       "      <td>627</td>\n",
       "      <td>272</td>\n",
       "      <td>48</td>\n",
       "      <td>114</td>\n",
       "      <td>RED</td>\n",
       "    </tr>\n",
       "    <tr>\n",
       "      <td>...</td>\n",
       "      <td>...</td>\n",
       "      <td>...</td>\n",
       "      <td>...</td>\n",
       "      <td>...</td>\n",
       "      <td>...</td>\n",
       "      <td>...</td>\n",
       "      <td>...</td>\n",
       "    </tr>\n",
       "    <tr>\n",
       "      <td>94</td>\n",
       "      <td>94</td>\n",
       "      <td>IMAGE268.png</td>\n",
       "      <td>287</td>\n",
       "      <td>469</td>\n",
       "      <td>23</td>\n",
       "      <td>52</td>\n",
       "      <td>GREEN</td>\n",
       "    </tr>\n",
       "    <tr>\n",
       "      <td>95</td>\n",
       "      <td>95</td>\n",
       "      <td>IMAGE268.png</td>\n",
       "      <td>185</td>\n",
       "      <td>466</td>\n",
       "      <td>24</td>\n",
       "      <td>52</td>\n",
       "      <td>GREEN</td>\n",
       "    </tr>\n",
       "    <tr>\n",
       "      <td>96</td>\n",
       "      <td>96</td>\n",
       "      <td>IMAGE269.png</td>\n",
       "      <td>278</td>\n",
       "      <td>453</td>\n",
       "      <td>27</td>\n",
       "      <td>56</td>\n",
       "      <td>GREEN</td>\n",
       "    </tr>\n",
       "    <tr>\n",
       "      <td>97</td>\n",
       "      <td>97</td>\n",
       "      <td>IMAGE269.png</td>\n",
       "      <td>166</td>\n",
       "      <td>449</td>\n",
       "      <td>26</td>\n",
       "      <td>57</td>\n",
       "      <td>GREEN</td>\n",
       "    </tr>\n",
       "    <tr>\n",
       "      <td>98</td>\n",
       "      <td>98</td>\n",
       "      <td>IMAGE270.png</td>\n",
       "      <td>142</td>\n",
       "      <td>429</td>\n",
       "      <td>30</td>\n",
       "      <td>64</td>\n",
       "      <td>GREEN</td>\n",
       "    </tr>\n",
       "  </tbody>\n",
       "</table>\n",
       "<p>99 rows × 7 columns</p>\n",
       "</div>"
      ],
      "text/plain": [
       "    Unnamed: 0          name    x    y   w    h  color\n",
       "0            0    IMAGE0.png  627  272  48  114    RED\n",
       "1            1    IMAGE0.png  379  268  48  114    RED\n",
       "2            2    IMAGE1.png  627  272  48  114    RED\n",
       "3            3    IMAGE1.png  379  268  48  114    RED\n",
       "4            4    IMAGE2.png  627  272  48  114    RED\n",
       "..         ...           ...  ...  ...  ..  ...    ...\n",
       "94          94  IMAGE268.png  287  469  23   52  GREEN\n",
       "95          95  IMAGE268.png  185  466  24   52  GREEN\n",
       "96          96  IMAGE269.png  278  453  27   56  GREEN\n",
       "97          97  IMAGE269.png  166  449  26   57  GREEN\n",
       "98          98  IMAGE270.png  142  429  30   64  GREEN\n",
       "\n",
       "[99 rows x 7 columns]"
      ]
     },
     "execution_count": 5,
     "metadata": {},
     "output_type": "execute_result"
    }
   ],
   "source": [
    "dataframe = dataframe[dataframe['color'] != \"YELLOW\"]\n",
    "dataset = dataframe.values\n",
    "dataframe"
   ]
  },
  {
   "cell_type": "code",
   "execution_count": 6,
   "metadata": {},
   "outputs": [],
   "source": [
    "num_examples = dataframe.shape[0]"
   ]
  },
  {
   "cell_type": "code",
   "execution_count": 7,
   "metadata": {},
   "outputs": [],
   "source": [
    "label = dataframe['color'].values"
   ]
  },
  {
   "cell_type": "code",
   "execution_count": 8,
   "metadata": {},
   "outputs": [
    {
     "data": {
      "text/plain": [
       "dtype('O')"
      ]
     },
     "execution_count": 8,
     "metadata": {},
     "output_type": "execute_result"
    }
   ],
   "source": [
    "label.dtype"
   ]
  },
  {
   "cell_type": "code",
   "execution_count": 9,
   "metadata": {},
   "outputs": [],
   "source": [
    "labels, categorical = np.unique(label, return_inverse=True)"
   ]
  },
  {
   "cell_type": "code",
   "execution_count": 10,
   "metadata": {},
   "outputs": [
    {
     "name": "stdout",
     "output_type": "stream",
     "text": [
      "['GREEN' 'RED']\n",
      "[1 1 1 1 1 1 1 1 1 1 1 1 1 1 1 1 1 1 1 1 1 1 1 1 1 1 1 1 1 1 1 1 1 1 1 1 1\n",
      " 1 1 1 1 1 1 1 1 1 1 1 1 0 0 0 0 0 0 0 0 0 0 0 0 0 0 0 0 0 0 0 0 0 0 0 0 0\n",
      " 0 0 0 0 0 0 0 0 0 0 0 0 0 0 0 0 0 0 0 0 0 0 0 0 0]\n"
     ]
    }
   ],
   "source": [
    "print(labels)\n",
    "print(categorical)"
   ]
  },
  {
   "cell_type": "code",
   "execution_count": 11,
   "metadata": {},
   "outputs": [],
   "source": [
    "normalized_h = 128\n",
    "normalized_w = 64"
   ]
  },
  {
   "cell_type": "code",
   "execution_count": 12,
   "metadata": {},
   "outputs": [
    {
     "name": "stdout",
     "output_type": "stream",
     "text": [
      "Missing image: IMAGE223.png\n",
      "Missing image: IMAGE223.png\n",
      "Missing image: IMAGE224.png\n",
      "Missing image: IMAGE224.png\n",
      "Missing image: IMAGE224.png\n",
      "Missing image: IMAGE225.png\n",
      "Missing image: IMAGE225.png\n",
      "Missing image: IMAGE226.png\n",
      "Missing image: IMAGE227.png\n",
      "Missing image: IMAGE228.png\n",
      "Missing image: IMAGE229.png\n",
      "Missing image: IMAGE230.png\n",
      "Missing image: IMAGE230.png\n",
      "Missing image: IMAGE230.png\n",
      "Missing image: IMAGE231.png\n",
      "Missing image: IMAGE231.png\n",
      "Missing image: IMAGE231.png\n",
      "Missing image: IMAGE232.png\n",
      "Missing image: IMAGE232.png\n",
      "Missing image: IMAGE232.png\n",
      "Missing image: IMAGE233.png\n",
      "Missing image: IMAGE233.png\n",
      "Missing image: IMAGE233.png\n",
      "Missing image: IMAGE233.png\n",
      "Missing image: IMAGE234.png\n",
      "Missing image: IMAGE234.png\n",
      "Missing image: IMAGE235.png\n",
      "Missing image: IMAGE235.png\n",
      "Missing image: IMAGE236.png\n",
      "Missing image: IMAGE236.png\n",
      "Missing image: IMAGE237.png\n",
      "Missing image: IMAGE237.png\n",
      "Missing image: IMAGE238.png\n",
      "Missing image: IMAGE238.png\n",
      "Missing image: IMAGE238.png\n",
      "Missing image: IMAGE239.png\n",
      "Missing image: IMAGE239.png\n",
      "Missing image: IMAGE239.png\n",
      "Missing image: IMAGE240.png\n",
      "Missing image: IMAGE240.png\n",
      "Missing image: IMAGE241.png\n",
      "Missing image: IMAGE242.png\n",
      "Missing image: IMAGE242.png\n",
      "Missing image: IMAGE243.png\n",
      "Missing image: IMAGE243.png\n",
      "Missing image: IMAGE261.png\n",
      "Missing image: IMAGE261.png\n",
      "Missing image: IMAGE261.png\n",
      "Missing image: IMAGE262.png\n",
      "Missing image: IMAGE262.png\n",
      "Missing image: IMAGE262.png\n",
      "Missing image: IMAGE262.png\n",
      "Missing image: IMAGE263.png\n",
      "Missing image: IMAGE263.png\n",
      "Missing image: IMAGE263.png\n",
      "Missing image: IMAGE264.png\n",
      "Missing image: IMAGE264.png\n",
      "Missing image: IMAGE265.png\n",
      "Missing image: IMAGE265.png\n",
      "Missing image: IMAGE265.png\n",
      "Missing image: IMAGE266.png\n",
      "Missing image: IMAGE266.png\n",
      "Missing image: IMAGE267.png\n",
      "Missing image: IMAGE267.png\n",
      "Missing image: IMAGE267.png\n",
      "Missing image: IMAGE268.png\n",
      "Missing image: IMAGE268.png\n",
      "Missing image: IMAGE269.png\n",
      "Missing image: IMAGE269.png\n",
      "Missing image: IMAGE270.png\n"
     ]
    }
   ],
   "source": [
    "def read_image(filename):\n",
    "    im = cv2.imread(filename)\n",
    "    return cv2.cvtColor(im, cv2.COLOR_BGR2RGB) if im is not None else None\n",
    "\n",
    "xs = np.zeros((num_examples, normalized_h, normalized_w, 3), dtype=np.uint8)\n",
    "ys = np.zeros(num_examples, dtype=np.int8)\n",
    "\n",
    "for index, row in dataframe.iterrows():\n",
    "    name = row['name']\n",
    "    x = row['x']\n",
    "    y = row['y']\n",
    "    h = row['h']\n",
    "    w = row['w']\n",
    "    missing_ctr = 0\n",
    "    img = read_image(name)\n",
    "    if img is not None:\n",
    "        cropped = img[y:y+h, x:x+w]\n",
    "        resized = cv2.resize(cropped, (normalized_w, normalized_h))\n",
    "        xs[index-missing_ctr] = resized \n",
    "        ys[index-missing_ctr] = categorical[index]\n",
    "    else:\n",
    "        print(\"Missing image: %s\" % name)\n",
    "        missing_ctr += 1\n",
    "\n",
    "xs = xs[:-missing_ctr]\n",
    "ys = ys[:-missing_ctr]\n",
    "ys = to_categorical(ys)"
   ]
  },
  {
   "cell_type": "markdown",
   "metadata": {},
   "source": [
    "## Better data"
   ]
  },
  {
   "cell_type": "code",
   "execution_count": 13,
   "metadata": {},
   "outputs": [],
   "source": [
    "base = os.getcwd()\n",
    "train_green = base + \"/ITSDC-Udacity-Traffic-Light-Classifier/traffic_light_images/training/green\"\n",
    "train_yellow = base + \"/ITSDC-Udacity-Traffic-Light-Classifier/traffic_light_images/training/yellow\"\n",
    "train_red = base + \"/ITSDC-Udacity-Traffic-Light-Classifier/traffic_light_images/training/red\"\n",
    "\n",
    "test_green = base + \"/ITSDC-Udacity-Traffic-Light-Classifier/traffic_light_images/test/green\"\n",
    "test_yellow = base + \"/ITSDC-Udacity-Traffic-Light-Classifier/traffic_light_images/test/yellow\"\n",
    "test_red = base + \"/ITSDC-Udacity-Traffic-Light-Classifier/traffic_light_images/test/red\"\n",
    "\n",
    "xs_train = []\n",
    "ys_train = []\n",
    "\n",
    "xs_test = []\n",
    "ys_test = []\n",
    "\n",
    "for idx, name in enumerate([train_green, train_yellow, train_red]):\n",
    "    for file_name in glob.glob(name + \"/*.jpg\"):\n",
    "        img = read_image(file_name)\n",
    "        img = cv2.resize(img, (normalized_w, normalized_h))\n",
    "        xs_train.append(img)\n",
    "        ys_train.append(idx)\n",
    "        \n",
    "for idx, name in enumerate([test_green, test_yellow, test_red]):\n",
    "    for file_name in glob.glob(name + \"/*.jpg\"):\n",
    "        img = read_image(file_name)\n",
    "        img = cv2.resize(img, (normalized_w, normalized_h))\n",
    "        xs_test.append(img)\n",
    "        ys_test.append(idx)"
   ]
  },
  {
   "cell_type": "code",
   "execution_count": 14,
   "metadata": {},
   "outputs": [],
   "source": [
    "xs_train = np.stack(xs_train, axis=0)\n",
    "xs_test = np.stack(xs_test, axis=0)"
   ]
  },
  {
   "cell_type": "code",
   "execution_count": 15,
   "metadata": {},
   "outputs": [],
   "source": [
    "ys_train = to_categorical(ys_train)\n",
    "ys_test = to_categorical(ys_test)"
   ]
  },
  {
   "cell_type": "code",
   "execution_count": 16,
   "metadata": {},
   "outputs": [],
   "source": [
    "# Adapted from Keras documentation\n",
    "datagen = ImageDataGenerator(\n",
    "        featurewise_center=False,  # set input mean to 0 over the dataset\n",
    "        samplewise_center=True,  # set each sample mean to 0\n",
    "        featurewise_std_normalization=False,  # divide inputs by std of the dataset\n",
    "        samplewise_std_normalization=False,  # divide each input by its std\n",
    "        zca_whitening=False,  # apply ZCA whitening\n",
    "        zca_epsilon=1e-06,  # epsilon for ZCA whitening\n",
    "        rotation_range=5,  # randomly rotate images in the range (degrees, 0 to 180)\n",
    "        # randomly shift images horizontally (fraction of total width)\n",
    "        width_shift_range=0.05,\n",
    "        # randomly shift images vertically (fraction of total height)\n",
    "        height_shift_range=0.05,\n",
    "        shear_range=0.05,  # set range for random shear\n",
    "        zoom_range=0.05,  # set range for random zoom\n",
    "        channel_shift_range=0.,  # set range for random channel shifts\n",
    "        # set mode for filling points outside the input boundaries\n",
    "        fill_mode='nearest',\n",
    "        cval=0.,  # value used for fill_mode = \"constant\"\n",
    "        horizontal_flip=True,  # randomly flip images\n",
    "        vertical_flip=False,  # randomly flip images\n",
    "        # set rescaling factor (applied before any other transformation)\n",
    "        rescale=None,\n",
    "        # set function that will be applied on each input\n",
    "        preprocessing_function=None,\n",
    "        # image data format, either \"channels_first\" or \"channels_last\"\n",
    "        data_format=None,\n",
    "        # fraction of images reserved for validation (strictly between 0 and 1)\n",
    "        validation_split=0.2)"
   ]
  },
  {
   "cell_type": "code",
   "execution_count": 17,
   "metadata": {},
   "outputs": [],
   "source": [
    "datagen.fit(xs_train)"
   ]
  },
  {
   "cell_type": "code",
   "execution_count": 25,
   "metadata": {},
   "outputs": [
    {
     "name": "stdout",
     "output_type": "stream",
     "text": [
      "Model: \"tl_net\"\n",
      "_________________________________________________________________\n",
      "Layer (type)                 Output Shape              Param #   \n",
      "=================================================================\n",
      "conv2d_5 (Conv2D)            (None, 126, 62, 8)        224       \n",
      "_________________________________________________________________\n",
      "dropout_7 (Dropout)          (None, 126, 62, 8)        0         \n",
      "_________________________________________________________________\n",
      "average_pooling2d_5 (Average (None, 63, 31, 8)         0         \n",
      "_________________________________________________________________\n",
      "conv2d_6 (Conv2D)            (None, 61, 29, 16)        1168      \n",
      "_________________________________________________________________\n",
      "dropout_8 (Dropout)          (None, 61, 29, 16)        0         \n",
      "_________________________________________________________________\n",
      "average_pooling2d_6 (Average (None, 30, 14, 16)        0         \n",
      "_________________________________________________________________\n",
      "flatten_3 (Flatten)          (None, 6720)              0         \n",
      "_________________________________________________________________\n",
      "dense_7 (Dense)              (None, 120)               806520    \n",
      "_________________________________________________________________\n",
      "dropout_9 (Dropout)          (None, 120)               0         \n",
      "_________________________________________________________________\n",
      "dense_8 (Dense)              (None, 84)                10164     \n",
      "_________________________________________________________________\n",
      "dense_9 (Dense)              (None, 3)                 255       \n",
      "=================================================================\n",
      "Total params: 818,331\n",
      "Trainable params: 818,331\n",
      "Non-trainable params: 0\n",
      "_________________________________________________________________\n",
      "None\n"
     ]
    }
   ],
   "source": [
    "model = keras.Sequential(name=\"tl_net\")\n",
    "\n",
    "model.add(Conv2D(filters=8, kernel_size=(3, 3), activation='relu', input_shape=(normalized_h, normalized_w, 3)))\n",
    "model.add(Dropout(rate=0.5))\n",
    "model.add(AveragePooling2D())\n",
    "\n",
    "\n",
    "model.add(Conv2D(filters=16, kernel_size=(3, 3), activation='relu'))\n",
    "model.add(Dropout(rate=0.5))\n",
    "model.add(AveragePooling2D())\n",
    "\n",
    "# model.add(Conv2D(filters=32, kernel_size=(3, 3), activation='relu'))\n",
    "# model.add(Dropout(rate=0.5))\n",
    "# model.add(AveragePooling2D())\n",
    "\n",
    "model.add(Flatten())\n",
    "\n",
    "model.add(Dense(units=120, activation='relu'))\n",
    "model.add(Dropout(rate=0.5))\n",
    "model.add(Dense(units=84, activation='relu'))\n",
    "model.add(Dense(units=3, activation = 'softmax'))\n",
    "\n",
    "opt = keras.optimizers.Adam(decay=1e-4)\n",
    "\n",
    "model.compile(loss='categorical_crossentropy',\n",
    "              optimizer=opt,\n",
    "              metrics=['accuracy'])\n",
    "\n",
    "print(model.summary())"
   ]
  },
  {
   "cell_type": "code",
   "execution_count": 26,
   "metadata": {},
   "outputs": [
    {
     "name": "stdout",
     "output_type": "stream",
     "text": [
      "Epoch 1/3\n",
      "75/75 [==============================] - 3s 38ms/step - loss: 2.4464 - accuracy: 0.8770 - val_loss: 0.2018 - val_accuracy: 0.9798\n",
      "Epoch 2/3\n",
      "75/75 [==============================] - 3s 35ms/step - loss: 0.0690 - accuracy: 0.9764 - val_loss: 0.1991 - val_accuracy: 0.9764\n",
      "Epoch 3/3\n",
      "75/75 [==============================] - 3s 34ms/step - loss: 0.0298 - accuracy: 0.9924 - val_loss: 0.1720 - val_accuracy: 0.9697\n"
     ]
    },
    {
     "data": {
      "text/plain": [
       "<keras.callbacks.callbacks.History at 0x7face0538cd0>"
      ]
     },
     "execution_count": 26,
     "metadata": {},
     "output_type": "execute_result"
    }
   ],
   "source": [
    "epochs = 3\n",
    "batch_size = 16\n",
    "\n",
    "model.fit_generator(\n",
    "    datagen.flow(xs_train, ys_train,\n",
    "                 batch_size=batch_size),\n",
    "    epochs=epochs,\n",
    "    validation_data=(xs_test, ys_test),\n",
    "    workers=4)"
   ]
  },
  {
   "cell_type": "code",
   "execution_count": 27,
   "metadata": {},
   "outputs": [
    {
     "name": "stdout",
     "output_type": "stream",
     "text": [
      "Saved trained model at /Users/mkolodziej/src/ground-truth-images/tl_net \n",
      "297/297 [==============================] - 0s 360us/step\n",
      "Test loss: 0.17201344416749556\n",
      "Test accuracy: 0.9696969985961914\n"
     ]
    }
   ],
   "source": [
    "model_name = 'tl_net'\n",
    "model_path = os.path.join(os.getcwd(), model_name)\n",
    "model.save(model_path)\n",
    "print('Saved trained model at %s ' % model_path)\n",
    "\n",
    "# Score trained model.\n",
    "scores = model.evaluate(xs_test, ys_test, verbose=1)\n",
    "print('Test loss:', scores[0])\n",
    "print('Test accuracy:', scores[1])"
   ]
  },
  {
   "cell_type": "code",
   "execution_count": 43,
   "metadata": {},
   "outputs": [],
   "source": [
    "from time import time"
   ]
  },
  {
   "cell_type": "code",
   "execution_count": 44,
   "metadata": {},
   "outputs": [],
   "source": [
    "xs_test_one_example = xs_test[0, ...]\n",
    "xs_test_one_example = np.expand_dims(xs_test_one_example, 0)"
   ]
  },
  {
   "cell_type": "code",
   "execution_count": 45,
   "metadata": {},
   "outputs": [
    {
     "data": {
      "text/plain": [
       "(1, 128, 64, 3)"
      ]
     },
     "execution_count": 45,
     "metadata": {},
     "output_type": "execute_result"
    }
   ],
   "source": [
    "xs_test_one_example.shape"
   ]
  },
  {
   "cell_type": "code",
   "execution_count": 49,
   "metadata": {},
   "outputs": [],
   "source": [
    "start = time()\n",
    "model.predict(xs_test_one_example)\n",
    "duration = time() - start"
   ]
  },
  {
   "cell_type": "code",
   "execution_count": 50,
   "metadata": {},
   "outputs": [
    {
     "name": "stdout",
     "output_type": "stream",
     "text": [
      "Predicting one image took 2.142906 ms\n"
     ]
    }
   ],
   "source": [
    "print(\"Predicting one image took %f ms\" % (duration * 1000))"
   ]
  }
 ],
 "metadata": {
  "kernelspec": {
   "display_name": "Python 3",
   "language": "python",
   "name": "python3"
  },
  "language_info": {
   "codemirror_mode": {
    "name": "ipython",
    "version": 3
   },
   "file_extension": ".py",
   "mimetype": "text/x-python",
   "name": "python",
   "nbconvert_exporter": "python",
   "pygments_lexer": "ipython3",
   "version": "3.7.4"
  }
 },
 "nbformat": 4,
 "nbformat_minor": 2
}
